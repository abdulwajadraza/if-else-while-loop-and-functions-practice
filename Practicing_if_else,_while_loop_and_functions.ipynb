{
  "nbformat": 4,
  "nbformat_minor": 0,
  "metadata": {
    "colab": {
      "provenance": []
    },
    "kernelspec": {
      "name": "python3",
      "display_name": "Python 3"
    },
    "language_info": {
      "name": "python"
    }
  },
  "cells": [
    {
      "cell_type": "markdown",
      "source": [
        "# #**Practicing if/else, while loop and functions**"
      ],
      "metadata": {
        "id": "xXH6EVsZjDRn"
      }
    },
    {
      "cell_type": "code",
      "execution_count": 9,
      "metadata": {
        "colab": {
          "base_uri": "https://localhost:8080/"
        },
        "id": "-gcwSNUxjCar",
        "outputId": "ee5a76df-b379-46dd-ec77-686a5138574e"
      },
      "outputs": [
        {
          "output_type": "stream",
          "name": "stdout",
          "text": [
            "Enter a number less than 50: 60\n",
            "Plz Enter a Valid Number\n"
          ]
        }
      ],
      "source": [
        "#printing the value of a by deceasing 2 each time untill to reach 0\n",
        "\n",
        "#defining a function to print value of a\n",
        "def print_value_of_a():\n",
        "\n",
        "  #taking a number integer input by the user\n",
        "  cur_value = int(input(\"Enter a number less than 50: \"))\n",
        "\n",
        "  #setting a limit of 50 to avoid load on program\n",
        "  if cur_value <=50:\n",
        "    #applying a while loop to print value of a untill it reaches zero\n",
        "    while cur_value >=0:\n",
        "      #printing the value of a\n",
        "      print(f\"The value of a is {cur_value}\")\n",
        "\n",
        "      # decreasing the value of a by 2 on each iteration\n",
        "      cur_value = cur_value - 2\n",
        "\n",
        "    #printing the final message on loop completion with a question statement, if the user want to exit of try another number\n",
        "    print(\"The loop is completed,\\nwant to exit?\")\n",
        "    #taking user response and saving it to a variable exit_q\n",
        "    exit_q = input(\"'Yes' or 'No'?: \")\n",
        "\n",
        "    #checking if the response is \"Yes\" to exit the program or else. If response is Yes, it will exit otherwise call the function to restart the program.\n",
        "    if exit_q == \"Yes\":\n",
        "                  print(\"**Thank you for using our program, have a Great Time!**\")\n",
        "    else:\n",
        "      #calling the function to restart the loop again\n",
        "      print_value_of_a()\n",
        "  #closing the firsrt if section with a message for user.\n",
        "  else:\n",
        "    print(\"Plz Enter a Valid Number\")\n",
        "\n",
        "#calling the function to start the program.\n",
        "print_value_of_a()"
      ]
    },
    {
      "cell_type": "code",
      "source": [],
      "metadata": {
        "id": "VTE1a4VCjc_V"
      },
      "execution_count": null,
      "outputs": []
    }
  ]
}